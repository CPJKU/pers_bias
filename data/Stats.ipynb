{
 "cells": [
  {
   "cell_type": "markdown",
   "metadata": {},
   "source": [
    "# Personality Bias in Music Recommendation dataset description\n",
    "This notebook contains info and statistics about the data used in the paper \"[Personality Bias in Music Recommendation]()\" by Alessandro B. Melchiorre, Eva Zangerle, Markus Schedl\n",
    "published at RecSys 2020.\n",
    "\n",
    "## Dataset\n",
    "The Dataset is based on microblogs shared on Twitter in the years of 2018 and 2019. In more details, we extract the listening events from the tweets containing the #nowplaying hashtag. We detect the personality of the user retrieving the 200 most recent tweets and using the [IBM personaltiy insight tool](https://cloud.ibm.com/docs/services/personality-insights?topic=personality-insights-gettingStarted). Additional info on data acquisition and processing can be found in the [paper]().\n",
    "\n",
    "Data is contained in two files:\n",
    "- **inter.csv**, containing the listening events\n",
    "- **pers.csv**, containing the personality of the users"
   ]
  },
  {
   "cell_type": "code",
   "execution_count": 1,
   "metadata": {},
   "outputs": [],
   "source": [
    "import pandas as pd\n",
    "from matplotlib import pyplot as plt"
   ]
  },
  {
   "cell_type": "code",
   "execution_count": 2,
   "metadata": {},
   "outputs": [],
   "source": [
    "data = pd.read_csv(\"inter.csv\")"
   ]
  },
  {
   "cell_type": "markdown",
   "metadata": {},
   "source": [
    "## 1. Interaction data description\n",
    "Each row describes a listening event. The number of times a row appears is the number of times a user listened to that track.\n",
    "\n",
    "Columns are:\n",
    "- **user_id**: id of the user in the context of this dataset\n",
    "- **track_id**: id of the track in the context of this dataset"
   ]
  },
  {
   "cell_type": "code",
   "execution_count": 4,
   "metadata": {},
   "outputs": [
    {
     "data": {
      "text/html": [
       "<div>\n",
       "<style scoped>\n",
       "    .dataframe tbody tr th:only-of-type {\n",
       "        vertical-align: middle;\n",
       "    }\n",
       "\n",
       "    .dataframe tbody tr th {\n",
       "        vertical-align: top;\n",
       "    }\n",
       "\n",
       "    .dataframe thead th {\n",
       "        text-align: right;\n",
       "    }\n",
       "</style>\n",
       "<table border=\"1\" class=\"dataframe\">\n",
       "  <thead>\n",
       "    <tr style=\"text-align: right;\">\n",
       "      <th></th>\n",
       "      <th>user_id</th>\n",
       "      <th>track_id</th>\n",
       "    </tr>\n",
       "  </thead>\n",
       "  <tbody>\n",
       "    <tr>\n",
       "      <th>91045</th>\n",
       "      <td>12254</td>\n",
       "      <td>11460</td>\n",
       "    </tr>\n",
       "    <tr>\n",
       "      <th>363349</th>\n",
       "      <td>10411</td>\n",
       "      <td>14637</td>\n",
       "    </tr>\n",
       "    <tr>\n",
       "      <th>263149</th>\n",
       "      <td>948</td>\n",
       "      <td>4757</td>\n",
       "    </tr>\n",
       "    <tr>\n",
       "      <th>42471</th>\n",
       "      <td>553</td>\n",
       "      <td>278</td>\n",
       "    </tr>\n",
       "    <tr>\n",
       "      <th>365072</th>\n",
       "      <td>1432</td>\n",
       "      <td>3073</td>\n",
       "    </tr>\n",
       "  </tbody>\n",
       "</table>\n",
       "</div>"
      ],
      "text/plain": [
       "        user_id  track_id\n",
       "91045     12254     11460\n",
       "363349    10411     14637\n",
       "263149      948      4757\n",
       "42471       553       278\n",
       "365072     1432      3073"
      ]
     },
     "execution_count": 4,
     "metadata": {},
     "output_type": "execute_result"
    }
   ],
   "source": [
    "data.sample(5)"
   ]
  },
  {
   "cell_type": "code",
   "execution_count": 5,
   "metadata": {},
   "outputs": [
    {
     "name": "stdout",
     "output_type": "stream",
     "text": [
      "The dataset contains the following:\n",
      "395056 listening events (considering that a user could interact multiple times with a track)\n",
      "333550 unique user x track interactions (considering that a user interacts once with a track)\n",
      "18310 users\n",
      "15753 items\n"
     ]
    }
   ],
   "source": [
    "print(\"The dataset contains the following:\")\n",
    "print(\"{} listening events (considering that a user could interact multiple times with a track)\".format(len(data)))\n",
    "print(\"{} unique user x track interactions (considering that a user interacts once with a track)\".format(len(data[[\"user_id\",\"track_id\"]].drop_duplicates())))\n",
    "print(\"{} users\".format(data.user_id.nunique()))\n",
    "print(\"{} items\".format(data.track_id.nunique()))"
   ]
  },
  {
   "cell_type": "markdown",
   "metadata": {},
   "source": [
    "### Consumption distributions\n",
    "We look at 4 distributions:\n",
    "- **User playcount distribution** (considers listening events)\n",
    "- **Item playcount distribution** (considers listening events)\n",
    "- **User unique interactions distribution**\n",
    "- **Item unique interactions distribution**"
   ]
  },
  {
   "cell_type": "code",
   "execution_count": 6,
   "metadata": {},
   "outputs": [
    {
     "name": "stdout",
     "output_type": "stream",
     "text": [
      "---- User playcount distrbution ----\n",
      "\n",
      "-- Stats --\n",
      "count    18310.000000\n",
      "mean        21.575969\n",
      "std         34.344543\n",
      "min          5.000000\n",
      "25%          8.000000\n",
      "50%         12.000000\n",
      "75%         21.000000\n",
      "max        950.000000\n",
      "Name: user_id, dtype: float64\n"
     ]
    },
    {
     "data": {
      "image/png": "[encoded data removed]",
      "text/plain": [
       "<Figure size 432x288 with 1 Axes>"
      ]
     },
     "metadata": {
      "needs_background": "light"
     },
     "output_type": "display_data"
    }
   ],
   "source": [
    "print(\"---- User playcount distrbution ----\\n\")\n",
    "uplaycounts =  data.user_id.value_counts()\n",
    "print('-- Stats --')\n",
    "print(uplaycounts.describe())\n",
    "# e.g. the \"average\" user has 21/22 listening events\n",
    "\n",
    "uplaycounts.hist(bins=100,log=True,color='cornflowerblue')\n",
    "plt.suptitle('Logarithm frequency user playcount distribution')\n",
    "plt.ylabel('# of users')\n",
    "_= plt.xlabel('# of listening events')"
   ]
  },
  {
   "cell_type": "code",
   "execution_count": 7,
   "metadata": {},
   "outputs": [
    {
     "name": "stdout",
     "output_type": "stream",
     "text": [
      "---- Track playcount distrbution ----\n",
      "\n",
      "-- Stats --\n",
      "count    15753.000000\n",
      "mean        25.078144\n",
      "std         33.115417\n",
      "min          8.000000\n",
      "25%         11.000000\n",
      "50%         16.000000\n",
      "75%         26.000000\n",
      "max        986.000000\n",
      "Name: track_id, dtype: float64\n"
     ]
    },
    {
     "data": {
      "image/png": "[encoded data removed]",
      "text/plain": [
       "<Figure size 432x288 with 1 Axes>"
      ]
     },
     "metadata": {
      "needs_background": "light"
     },
     "output_type": "display_data"
    }
   ],
   "source": [
    "print(\"---- Track playcount distrbution ----\\n\")\n",
    "tplaycounts =  data.track_id.value_counts()\n",
    "print('-- Stats --')\n",
    "print(tplaycounts.describe())\n",
    "# e.g. the \"average\" item has been listened 25 times\n",
    "\n",
    "tplaycounts.hist(bins=100,log=True,color='cornflowerblue')\n",
    "plt.suptitle('Logarithm frequency item playcount distribution')\n",
    "plt.ylabel('# of items')\n",
    "_= plt.xlabel('# of listening events')"
   ]
  },
  {
   "cell_type": "code",
   "execution_count": 8,
   "metadata": {},
   "outputs": [
    {
     "name": "stdout",
     "output_type": "stream",
     "text": [
      "---- User unique interactions distrbution ----\n",
      "\n",
      "-- Stats --\n",
      "count    18310.000000\n",
      "mean        18.216821\n",
      "std         23.111750\n",
      "min          5.000000\n",
      "25%          7.000000\n",
      "50%         11.000000\n",
      "75%         19.000000\n",
      "max        334.000000\n",
      "Name: user_id, dtype: float64\n"
     ]
    },
    {
     "data": {
      "image/png": "[encoded data removed]",
      "text/plain": [
       "<Figure size 432x288 with 1 Axes>"
      ]
     },
     "metadata": {
      "needs_background": "light"
     },
     "output_type": "display_data"
    }
   ],
   "source": [
    "print(\"---- User unique interactions distrbution ----\\n\")\n",
    "unuplaycounts =  data.drop_duplicates().user_id.value_counts()\n",
    "print('-- Stats --')\n",
    "print(unuplaycounts.describe())\n",
    "\n",
    "\n",
    "unuplaycounts.hist(bins=100,log=True,color='cornflowerblue')\n",
    "plt.suptitle('Logarithm frequency user unique interactions distribution')\n",
    "plt.ylabel('# of users')\n",
    "_= plt.xlabel('# of interactions')"
   ]
  },
  {
   "cell_type": "code",
   "execution_count": 9,
   "metadata": {},
   "outputs": [
    {
     "name": "stdout",
     "output_type": "stream",
     "text": [
      "---- Item unique interactions distrbution ----\n",
      "\n",
      "-- Stats --\n",
      "count    15753.000000\n",
      "mean        21.173745\n",
      "std         25.588050\n",
      "min          8.000000\n",
      "25%         10.000000\n",
      "50%         14.000000\n",
      "75%         23.000000\n",
      "max        744.000000\n",
      "Name: track_id, dtype: float64\n"
     ]
    },
    {
     "data": {
      "image/png": "[encoded data removed]",
      "text/plain": [
       "<Figure size 432x288 with 1 Axes>"
      ]
     },
     "metadata": {
      "needs_background": "light"
     },
     "output_type": "display_data"
    }
   ],
   "source": [
    "print(\"---- Item unique interactions distrbution ----\\n\")\n",
    "untplaycounts =  data.drop_duplicates().track_id.value_counts()\n",
    "print('-- Stats --')\n",
    "print(untplaycounts.describe())\n",
    "\n",
    "\n",
    "untplaycounts.hist(bins=100,log=True,color='cornflowerblue')\n",
    "plt.suptitle('Logarithm frequency item unique interactions distribution')\n",
    "plt.ylabel('# of items')\n",
    "_= plt.xlabel('# of interactions')"
   ]
  },
  {
   "cell_type": "markdown",
   "metadata": {},
   "source": [
    "### Most popular artists and tracks\n",
    "(in terms of listening events)"
   ]
  },
  {
   "cell_type": "code",
   "execution_count": 10,
   "metadata": {},
   "outputs": [],
   "source": [
    "dict_track = pd.read_csv('track_ids.csv')\n",
    "data_track = data.merge(dict_track)"
   ]
  },
  {
   "cell_type": "code",
   "execution_count": 11,
   "metadata": {},
   "outputs": [
    {
     "name": "stdout",
     "output_type": "stream",
     "text": [
      "\n",
      "### Most popular artists ###\n",
      "\n",
      "Drake             10099\n",
      "Kendrick Lamar     7990\n",
      "Kanye West         4707\n",
      "Future             4522\n",
      "Ed Sheeran         3689\n",
      "The Weeknd         3307\n",
      "BTS                3295\n",
      "Beyoncé            3122\n",
      "Jay-Z              2919\n",
      "Prince             2855\n",
      "Nicki Minaj        2729\n",
      "Frank Ocean        2714\n",
      "Chris Brown        2695\n",
      "J. Cole            2379\n",
      "JAY-Z              2250\n",
      "Travis Scott       2247\n",
      "Linkin Park        2159\n",
      "Rihanna            2127\n",
      "Rick Ross          2101\n",
      "2Pac               2082\n",
      "Name: artist, dtype: int64\n",
      "\n",
      "### Most popular tracks ###\n",
      "\n",
      "Shape of You;Ed Sheeran            986\n",
      "Enter the Dreamland;Meresha        815\n",
      "4:44;JAY-Z                         775\n",
      "Shining;DJ Khaled                  629\n",
      "Redbone;Childish Gambino           620\n",
      "LOVE.;Kendrick Lamar               614\n",
      "Slide;Calvin Harris                598\n",
      "Humble;Kendrick Lamar              594\n",
      "Loyalty;Kendrick Lamar             528\n",
      "Passionfruit;Drake                 498\n",
      "Mask Off;Future                    478\n",
      "DNA.;Kendrick Lamar                449\n",
      "Spring Day;BTS                     443\n",
      "Perfect;Ed Sheeran                 436\n",
      "Location;Khalid                    436\n",
      "The Heart Part 4;Kendrick Lamar    406\n",
      "Chanel;Frank Ocean                 391\n",
      "Get You;Daniel Caesar              383\n",
      "Bodak Yellow;Cardi B               380\n",
      "Not Today;BTS                      362\n",
      "Name: track_artist, dtype: int64\n"
     ]
    }
   ],
   "source": [
    "print(\"\\n### Most popular artists ###\\n\")\n",
    "print(data_track.artist.value_counts()[:20])\n",
    "print(\"\\n### Most popular tracks ###\\n\")\n",
    "print(data_track.track_artist.value_counts()[:20])"
   ]
  },
  {
   "cell_type": "markdown",
   "metadata": {},
   "source": [
    "### Most shared artists and tracks\n",
    "(in terms of unique interactions)"
   ]
  },
  {
   "cell_type": "code",
   "execution_count": 12,
   "metadata": {},
   "outputs": [
    {
     "name": "stdout",
     "output_type": "stream",
     "text": [
      "\n",
      "### Most shared artists ###\n",
      "\n",
      "Drake             8562\n",
      "Kendrick Lamar    6815\n",
      "Kanye West        4175\n",
      "Future            3801\n",
      "Ed Sheeran        3015\n",
      "The Weeknd        2680\n",
      "Beyoncé           2600\n",
      "Jay-Z             2549\n",
      "Prince            2330\n",
      "Frank Ocean       2296\n",
      "J. Cole           2082\n",
      "Chris Brown       2041\n",
      "Nicki Minaj       2026\n",
      "BTS               2008\n",
      "Linkin Park       1912\n",
      "Travis Scott      1841\n",
      "Rihanna           1821\n",
      "Rick Ross         1741\n",
      "JAY-Z             1740\n",
      "2Pac              1703\n",
      "Name: artist, dtype: int64\n",
      "\n",
      "### Most shared tracks ###\n",
      "\n",
      "Shape of You;Ed Sheeran            744\n",
      "4:44;JAY-Z                         546\n",
      "Slide;Calvin Harris                513\n",
      "Redbone;Childish Gambino           508\n",
      "Shining;DJ Khaled                  502\n",
      "Humble;Kendrick Lamar              497\n",
      "LOVE.;Kendrick Lamar               478\n",
      "Loyalty;Kendrick Lamar             430\n",
      "Passionfruit;Drake                 427\n",
      "DNA.;Kendrick Lamar                391\n",
      "Mask Off;Future                    378\n",
      "The Heart Part 4;Kendrick Lamar    377\n",
      "Location;Khalid                    366\n",
      "Perfect;Ed Sheeran                 350\n",
      "Get You;Daniel Caesar              317\n",
      "Chanel;Frank Ocean                 314\n",
      "That's What I Like;Bruno Mars      311\n",
      "I Feel It Coming;The Weeknd        277\n",
      "Issues;Julia Michaels              273\n",
      "Castle on the Hill;Ed Sheeran      271\n",
      "Name: track_artist, dtype: int64\n"
     ]
    }
   ],
   "source": [
    "print(\"\\n### Most shared artists ###\\n\")\n",
    "print(data_track.drop_duplicates(subset=[\"user_id\",\"track_id\"]).artist.value_counts()[:20])\n",
    "print(\"\\n### Most shared tracks ###\\n\")\n",
    "print(data_track.drop_duplicates(subset=[\"user_id\",\"track_id\"]).track_artist.value_counts()[:20])"
   ]
  },
  {
   "cell_type": "markdown",
   "metadata": {},
   "source": [
    "***"
   ]
  },
  {
   "cell_type": "markdown",
   "metadata": {},
   "source": [
    "## 2. Personality data description\n",
    "Each row represent the personality profile of a user. Personality is expressed through the [OCEAN model](https://en.wikipedia.org/wiki/Big_Five_personality_traits).\n",
    "\n",
    "Columns are:\n",
    "- **user_id**: id of the user\n",
    "- **agr**: Agreeablness\n",
    "- **con**: Conscientiousness\n",
    "- **ext**: Extraversion\n",
    "- **neu**: Neuroticism\n",
    "- **ope**: Openness to experience"
   ]
  },
  {
   "cell_type": "code",
   "execution_count": 15,
   "metadata": {},
   "outputs": [
    {
     "data": {
      "text/html": [
       "<div>\n",
       "<style scoped>\n",
       "    .dataframe tbody tr th:only-of-type {\n",
       "        vertical-align: middle;\n",
       "    }\n",
       "\n",
       "    .dataframe tbody tr th {\n",
       "        vertical-align: top;\n",
       "    }\n",
       "\n",
       "    .dataframe thead th {\n",
       "        text-align: right;\n",
       "    }\n",
       "</style>\n",
       "<table border=\"1\" class=\"dataframe\">\n",
       "  <thead>\n",
       "    <tr style=\"text-align: right;\">\n",
       "      <th></th>\n",
       "      <th>agr</th>\n",
       "      <th>con</th>\n",
       "      <th>ext</th>\n",
       "      <th>neu</th>\n",
       "      <th>ope</th>\n",
       "    </tr>\n",
       "    <tr>\n",
       "      <th>user_id</th>\n",
       "      <th></th>\n",
       "      <th></th>\n",
       "      <th></th>\n",
       "      <th></th>\n",
       "      <th></th>\n",
       "    </tr>\n",
       "  </thead>\n",
       "  <tbody>\n",
       "    <tr>\n",
       "      <th>9763</th>\n",
       "      <td>0.405426</td>\n",
       "      <td>0.084814</td>\n",
       "      <td>0.305881</td>\n",
       "      <td>0.711699</td>\n",
       "      <td>0.583300</td>\n",
       "    </tr>\n",
       "    <tr>\n",
       "      <th>15510</th>\n",
       "      <td>0.746768</td>\n",
       "      <td>0.077412</td>\n",
       "      <td>0.951510</td>\n",
       "      <td>0.100129</td>\n",
       "      <td>0.784264</td>\n",
       "    </tr>\n",
       "    <tr>\n",
       "      <th>10086</th>\n",
       "      <td>0.032021</td>\n",
       "      <td>0.055117</td>\n",
       "      <td>0.089272</td>\n",
       "      <td>0.892322</td>\n",
       "      <td>0.563861</td>\n",
       "    </tr>\n",
       "    <tr>\n",
       "      <th>7553</th>\n",
       "      <td>0.611219</td>\n",
       "      <td>0.113713</td>\n",
       "      <td>0.046594</td>\n",
       "      <td>0.745982</td>\n",
       "      <td>0.320968</td>\n",
       "    </tr>\n",
       "    <tr>\n",
       "      <th>6180</th>\n",
       "      <td>0.754709</td>\n",
       "      <td>0.132019</td>\n",
       "      <td>0.675012</td>\n",
       "      <td>0.333898</td>\n",
       "      <td>0.578518</td>\n",
       "    </tr>\n",
       "  </tbody>\n",
       "</table>\n",
       "</div>"
      ],
      "text/plain": [
       "              agr       con       ext       neu       ope\n",
       "user_id                                                  \n",
       "9763     0.405426  0.084814  0.305881  0.711699  0.583300\n",
       "15510    0.746768  0.077412  0.951510  0.100129  0.784264\n",
       "10086    0.032021  0.055117  0.089272  0.892322  0.563861\n",
       "7553     0.611219  0.113713  0.046594  0.745982  0.320968\n",
       "6180     0.754709  0.132019  0.675012  0.333898  0.578518"
      ]
     },
     "execution_count": 15,
     "metadata": {},
     "output_type": "execute_result"
    }
   ],
   "source": [
    "pers = pd.read_csv(\"pers.csv\",index_col='user_id')\n",
    "pers.sample(5)"
   ]
  },
  {
   "cell_type": "markdown",
   "metadata": {},
   "source": [
    "### Plotting distribution of the traits over the users"
   ]
  },
  {
   "cell_type": "code",
   "execution_count": 24,
   "metadata": {},
   "outputs": [
    {
     "data": {
      "image/png": "[encoded data removed]",
      "text/plain": [
       "<Figure size 1152x230.4 with 5 Axes>"
      ]
     },
     "metadata": {
      "needs_background": "light"
     },
     "output_type": "display_data"
    }
   ],
   "source": [
    "fig, axes = plt.subplots(1,5,figsize=(16,3.2))\n",
    "for i,(col,name) in enumerate(zip(pers.columns,['Agr.','Con.','Ext.','Neu.','Ope.'])):\n",
    "    axes[i].hist(pers[col],range=(0,1),bins=100,color='cornflowerblue')\n",
    "    axes[i].set_title(name)\n",
    "    axes[i].axvline(x=pers[col].median(),color='r')\n",
    "\n",
    "axes[0].set(xlabel='score', ylabel='# of users')\n",
    "for i in range(1,5):\n",
    "    axes[i].set(xlabel='score')\n",
    "plt.tight_layout()\n",
    "plt.show()\n",
    "#plt.savefig('traits_plots.png')"
   ]
  },
  {
   "cell_type": "markdown",
   "metadata": {},
   "source": [
    "### Differences in listening events between different personality groups"
   ]
  },
  {
   "cell_type": "code",
   "execution_count": 25,
   "metadata": {},
   "outputs": [
    {
     "name": "stdout",
     "output_type": "stream",
     "text": [
      "****** STATISTICS FOR TRAIT agr ******\n",
      "Median value is 0.2955526455729136\n",
      "\n",
      "\n",
      "### Listening events stats ###\n",
      "Low  group shared 187002 listening events\n",
      "High group shared 208054 listening events\n",
      "         low_group   high_group\n",
      "count  9155.000000  9155.000000\n",
      "mean     20.426215    22.725724\n",
      "std      32.611237    35.959522\n",
      "min       5.000000     5.000000\n",
      "25%       7.000000     8.000000\n",
      "50%      11.000000    12.000000\n",
      "75%      20.000000    23.000000\n",
      "max     884.000000   950.000000\n",
      "\n",
      "\n",
      "### Tracks stats ###\n",
      "Low  group shared 15664 (or covered 99.0 %) (unique) tracks\n",
      "High group shared 15694 (or covered 100.0 %) (unique) tracks\n",
      "         low_group   high_group\n",
      "count  9155.000000  9155.000000\n",
      "mean     17.317204    19.116439\n",
      "std      21.700196    24.409978\n",
      "min       5.000000     5.000000\n",
      "25%       7.000000     7.000000\n",
      "50%      10.000000    11.000000\n",
      "75%      18.000000    20.000000\n",
      "max     334.000000   330.000000\n",
      "Trait agr - blue low, orange high\n"
     ]
    },
    {
     "data": {
      "image/png": "[encoded data removed]",
      "text/plain": [
       "<Figure size 432x288 with 1 Axes>"
      ]
     },
     "metadata": {
      "needs_background": "light"
     },
     "output_type": "display_data"
    },
    {
     "name": "stdout",
     "output_type": "stream",
     "text": [
      "\n",
      "\n",
      "\n",
      "\n",
      "****** STATISTICS FOR TRAIT con ******\n",
      "Median value is 0.23084260407096746\n",
      "\n",
      "\n",
      "### Listening events stats ###\n",
      "Low  group shared 188877 listening events\n",
      "High group shared 206179 listening events\n",
      "         low_group   high_group\n",
      "count  9155.000000  9155.000000\n",
      "mean     20.631021    22.520918\n",
      "std      32.690853    35.899111\n",
      "min       5.000000     5.000000\n",
      "25%       8.000000     8.000000\n",
      "50%      11.000000    12.000000\n",
      "75%      21.000000    22.000000\n",
      "max     950.000000   725.000000\n",
      "\n",
      "\n",
      "### Tracks stats ###\n",
      "Low  group shared 15695 (or covered 100.0 %) (unique) tracks\n",
      "High group shared 15674 (or covered 99.0 %) (unique) tracks\n",
      "         low_group   high_group\n",
      "count  9155.000000  9155.000000\n",
      "mean     17.237357    19.196286\n",
      "std      20.439521    25.469029\n",
      "min       5.000000     5.000000\n",
      "25%       7.000000     7.000000\n",
      "50%      11.000000    11.000000\n",
      "75%      19.000000    20.000000\n",
      "max     306.000000   334.000000\n",
      "Trait con - blue low, orange high\n"
     ]
    },
    {
     "data": {
      "image/png": "[encoded data removed]",
      "text/plain": [
       "<Figure size 432x288 with 1 Axes>"
      ]
     },
     "metadata": {
      "needs_background": "light"
     },
     "output_type": "display_data"
    },
    {
     "name": "stdout",
     "output_type": "stream",
     "text": [
      "\n",
      "\n",
      "\n",
      "\n",
      "****** STATISTICS FOR TRAIT ext ******\n",
      "Median value is 0.35057513092734843\n",
      "\n",
      "\n",
      "### Listening events stats ###\n",
      "Low  group shared 177161 listening events\n",
      "High group shared 217895 listening events\n",
      "         low_group   high_group\n",
      "count  9155.000000  9155.000000\n",
      "mean     19.351283    23.800655\n",
      "std      27.331297    40.029049\n",
      "min       5.000000     5.000000\n",
      "25%       7.000000     8.000000\n",
      "50%      11.000000    12.000000\n",
      "75%      20.000000    23.000000\n",
      "max     427.000000   950.000000\n",
      "\n",
      "\n",
      "### Tracks stats ###\n",
      "Low  group shared 15672 (or covered 99.0 %) (unique) tracks\n",
      "High group shared 15655 (or covered 99.0 %) (unique) tracks\n",
      "         low_group   high_group\n",
      "count  9155.000000  9155.000000\n",
      "mean     16.443364    19.990279\n",
      "std      19.223310    26.316111\n",
      "min       5.000000     5.000000\n",
      "25%       7.000000     7.000000\n",
      "50%      10.000000    11.000000\n",
      "75%      18.000000    21.000000\n",
      "max     282.000000   334.000000\n",
      "Trait ext - blue low, orange high\n"
     ]
    },
    {
     "data": {
      "image/png": "[encoded data removed]",
      "text/plain": [
       "<Figure size 432x288 with 1 Axes>"
      ]
     },
     "metadata": {
      "needs_background": "light"
     },
     "output_type": "display_data"
    },
    {
     "name": "stdout",
     "output_type": "stream",
     "text": [
      "\n",
      "\n",
      "\n",
      "\n",
      "****** STATISTICS FOR TRAIT neu ******\n",
      "Median value is 0.5404112630199235\n",
      "\n",
      "\n",
      "### Listening events stats ###\n",
      "Low  group shared 217164 listening events\n",
      "High group shared 177892 listening events\n",
      "         low_group   high_group\n",
      "count  9155.000000  9155.000000\n",
      "mean     23.720808    19.431131\n",
      "std      37.686097    30.492303\n",
      "min       5.000000     5.000000\n",
      "25%       8.000000     7.000000\n",
      "50%      12.000000    11.000000\n",
      "75%      23.000000    20.000000\n",
      "max     725.000000   950.000000\n",
      "\n",
      "\n",
      "### Tracks stats ###\n",
      "Low  group shared 15607 (or covered 99.0 %) (unique) tracks\n",
      "High group shared 15429 (or covered 98.0 %) (unique) tracks\n",
      "         low_group   high_group\n",
      "count  9155.000000  9155.000000\n",
      "mean     20.254506    16.179137\n",
      "std      26.894210    18.351037\n",
      "min       5.000000     5.000000\n",
      "25%       7.000000     7.000000\n",
      "50%      11.000000    10.000000\n",
      "75%      21.000000    18.000000\n",
      "max     334.000000   306.000000\n",
      "Trait neu - blue low, orange high\n"
     ]
    },
    {
     "data": {
      "image/png": "[encoded data removed]",
      "text/plain": [
       "<Figure size 432x288 with 1 Axes>"
      ]
     },
     "metadata": {
      "needs_background": "light"
     },
     "output_type": "display_data"
    },
    {
     "name": "stdout",
     "output_type": "stream",
     "text": [
      "\n",
      "\n",
      "\n",
      "\n",
      "****** STATISTICS FOR TRAIT ope ******\n",
      "Median value is 0.6937518722388012\n",
      "\n",
      "\n",
      "### Listening events stats ###\n",
      "Low  group shared 185315 listening events\n",
      "High group shared 209741 listening events\n",
      "         low_group   high_group\n",
      "count  9155.000000  9155.000000\n",
      "mean     20.241944    22.909995\n",
      "std      32.554878    35.997839\n",
      "min       5.000000     5.000000\n",
      "25%       8.000000     8.000000\n",
      "50%      11.000000    12.000000\n",
      "75%      20.000000    23.000000\n",
      "max     950.000000   884.000000\n",
      "\n",
      "\n",
      "### Tracks stats ###\n",
      "Low  group shared 15619 (or covered 99.0 %) (unique) tracks\n",
      "High group shared 15652 (or covered 99.0 %) (unique) tracks\n",
      "         low_group   high_group\n",
      "count  9155.000000  9155.000000\n",
      "mean     16.902676    19.530967\n",
      "std      21.135218    24.863881\n",
      "min       5.000000     5.000000\n",
      "25%       7.000000     7.000000\n",
      "50%      11.000000    11.000000\n",
      "75%      18.000000    21.000000\n",
      "max     317.000000   334.000000\n",
      "Trait ope - blue low, orange high\n"
     ]
    },
    {
     "data": {
      "image/png": "[encoded data removed]",
      "text/plain": [
       "<Figure size 432x288 with 1 Axes>"
      ]
     },
     "metadata": {
      "needs_background": "light"
     },
     "output_type": "display_data"
    },
    {
     "name": "stdout",
     "output_type": "stream",
     "text": [
      "\n",
      "\n",
      "\n",
      "\n"
     ]
    }
   ],
   "source": [
    "columns = pers.columns\n",
    "alll = []\n",
    "for col in columns:\n",
    "    med = pers[col].median()\n",
    "    low = pers[pers[col] < med].index\n",
    "    high = pers[pers[col] >= med].index\n",
    "    data_low = data[data.user_id.isin(low)][[\"user_id\",\"track_id\"]]\n",
    "    data_high = data[data.user_id.isin(high)][[\"user_id\",\"track_id\"]]\n",
    "    # playcounts information\n",
    "    data_low[\"low_group\"] = 1\n",
    "    data_high[\"high_group\"] = 1\n",
    "    \n",
    "    les_low = data_low.groupby(\"user_id\")[\"low_group\"].sum()\n",
    "    les_high = data_high.groupby(\"user_id\")[\"high_group\"].sum()\n",
    "    \n",
    "    tks_low = data_low.drop_duplicates().groupby(\"user_id\")[\"low_group\"].sum()\n",
    "    tks_high = data_high.drop_duplicates().groupby(\"user_id\")[\"high_group\"].sum()\n",
    "    \n",
    "    print(\"****** STATISTICS FOR TRAIT {} ******\".format(col))\n",
    "    print(\"Median value is {}\".format(med))\n",
    "    print(\"\\n\")\n",
    "    print(\"### Listening events stats ###\")\n",
    "    print(\"Low  group shared {} listening events\".format(les_low.sum()))\n",
    "    print(\"High group shared {} listening events\".format(les_high.sum()))\n",
    "    print(pd.concat([les_low.describe(),les_high.describe()],axis=1))\n",
    "    print(\"\\n\")\n",
    "    print(\"### Tracks stats ###\")\n",
    "    print(\"Low  group shared {} (or covered {} %) (unique) tracks\".format(data_low.track_id.nunique(),round(data_low.track_id.nunique()/data.track_id.nunique(),2)*100))\n",
    "    print(\"High group shared {} (or covered {} %) (unique) tracks\".format(data_high.track_id.nunique(),round(data_high.track_id.nunique()/data.track_id.nunique(),2)*100))\n",
    "    print(pd.concat([tks_low.describe(),tks_high.describe()],axis=1))\n",
    "    alll.append(pd.concat([tks_low.describe(),tks_high.describe()],axis=1))\n",
    "\n",
    "    print('Trait {} - blue low, orange high'.format(col))\n",
    "    tks_low.hist(bins=100,log=True,alpha=0.5,)\n",
    "    tks_high.hist(bins=100,log=True,alpha=0.5)\n",
    "    plt.show()\n",
    "    \n",
    "    print(\"\\n\")\n",
    "    print(\"\\n\")"
   ]
  }
 ],
 "metadata": {
  "kernelspec": {
   "display_name": "Python 3",
   "language": "python",
   "name": "python3"
  },
  "language_info": {
   "codemirror_mode": {
    "name": "ipython",
    "version": 3
   },
   "file_extension": ".py",
   "mimetype": "text/x-python",
   "name": "python",
   "nbconvert_exporter": "python",
   "pygments_lexer": "ipython3",
   "version": "3.8.2"
  }
 },
 "nbformat": 4,
 "nbformat_minor": 4
}
